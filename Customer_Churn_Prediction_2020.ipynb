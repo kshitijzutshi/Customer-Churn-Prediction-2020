{
  "nbformat": 4,
  "nbformat_minor": 0,
  "metadata": {
    "colab": {
      "name": "Customer Churn Prediction 2020.ipynb",
      "provenance": [],
      "authorship_tag": "ABX9TyPG+0l+J/xQ2S0mn75TEuIO",
      "include_colab_link": true
    },
    "kernelspec": {
      "name": "python3",
      "display_name": "Python 3"
    },
    "language_info": {
      "name": "python"
    }
  },
  "cells": [
    {
      "cell_type": "markdown",
      "metadata": {
        "id": "view-in-github",
        "colab_type": "text"
      },
      "source": [
        "<a href=\"https://colab.research.google.com/github/kshitijzutshi/Customer-Churn-Prediction-2020/blob/main/Customer_Churn_Prediction_2020.ipynb\" target=\"_parent\"><img src=\"https://colab.research.google.com/assets/colab-badge.svg\" alt=\"Open In Colab\"/></a>"
      ]
    },
    {
      "cell_type": "markdown",
      "metadata": {
        "id": "ejq0i9PX6Pkp"
      },
      "source": [
        "***Kaggle Competition - Customer Churn Prediction 2020***\n",
        "\n",
        "https://www.kaggle.com/c/customer-churn-prediction-2020/overview"
      ]
    },
    {
      "cell_type": "code",
      "metadata": {
        "id": "k1EAJePUscYZ"
      },
      "source": [
        "import pandas as pd\n",
        "import seaborn as sns\n",
        "from numpy import unique\n",
        "import numpy as np\n",
        "import matplotlib.pyplot as plt\n",
        "from sklearn.model_selection import train_test_split\n",
        "from sklearn.feature_selection import SelectKBest, chi2\n",
        "from pandas.plotting import scatter_matrix\n",
        "# Building a model imports\n",
        "from sklearn.linear_model import LinearRegression\n",
        "from sklearn.metrics import mean_squared_error\n",
        "from sklearn.svm import SVC\n",
        "from sklearn.metrics import confusion_matrix"
      ],
      "execution_count": null,
      "outputs": []
    }
  ]
}